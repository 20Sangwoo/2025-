{
 "cells": [
  {
   "cell_type": "code",
   "execution_count": 1,
   "id": "1905968f",
   "metadata": {},
   "outputs": [
    {
     "name": "stdout",
     "output_type": "stream",
     "text": [
      "1 2 3\n"
     ]
    }
   ],
   "source": [
    "# 리스트 언팩킹\n",
    "numbers = [1, 2, 3]\n",
    "a, b, c = numbers\n",
    "print(a, b, c) # 출력: 1 2 3"
   ]
  },
  {
   "cell_type": "code",
   "execution_count": 8,
   "id": "82a08850",
   "metadata": {},
   "outputs": [
    {
     "name": "stdout",
     "output_type": "stream",
     "text": [
      "15\n"
     ]
    }
   ],
   "source": [
    "# 함수 인자 전달\n",
    "def add(x, y):\n",
    "    return x + y\n",
    "args = (5, 10)\n",
    "result = add(*args) # 튜플\n",
    "print(result)"
   ]
  },
  {
   "cell_type": "code",
   "execution_count": 9,
   "id": "d23ae365",
   "metadata": {},
   "outputs": [
    {
     "name": "stdout",
     "output_type": "stream",
     "text": [
      "[1, 2, 3, 4, 5, 6]\n"
     ]
    }
   ],
   "source": [
    "list1 = [1, 2, 3]\n",
    "list2 = [4, 5, 6]\n",
    "combined = [*list1, *list2] # 리스트 언팩킹\n",
    "print(combined) # 출력: [1, 2, 3, 4, 5, 6]"
   ]
  },
  {
   "cell_type": "code",
   "execution_count": 4,
   "id": "425ce75c",
   "metadata": {},
   "outputs": [
    {
     "name": "stdout",
     "output_type": "stream",
     "text": [
      "Alice\n"
     ]
    }
   ],
   "source": [
    "# 딕셔너리 언팩킹\n",
    "data = {'name': 'Alice', 'age': 30}\n",
    "print(data['name']) # 출력: Alice"
   ]
  },
  {
   "cell_type": "code",
   "execution_count": 6,
   "id": "bd65b872",
   "metadata": {},
   "outputs": [],
   "source": [
    "# 함수 정의\n",
    "def greet(name, age):\n",
    "    print(f\"Hello, my name is {name} and I am {age} yearsold.\")"
   ]
  },
  {
   "cell_type": "code",
   "execution_count": 10,
   "id": "d0a0b892",
   "metadata": {},
   "outputs": [
    {
     "name": "stdout",
     "output_type": "stream",
     "text": [
      "Hello, my name is Alice and I am 30 yearsold.\n"
     ]
    }
   ],
   "source": [
    "# 딕셔너리 언팩킹을 사용한 함수 호출\n",
    "greet(**data) # 출력: Hello, my name is Alice and I am 30years old."
   ]
  },
  {
   "cell_type": "code",
   "execution_count": 11,
   "id": "49d3b780",
   "metadata": {},
   "outputs": [
    {
     "name": "stdout",
     "output_type": "stream",
     "text": [
      "{'a': 1, 'b': 3, 'c': 4}\n"
     ]
    }
   ],
   "source": [
    "dict1 = {'a': 1, 'b': 2}\n",
    "dict2 = {'b': 3, 'c': 4}\n",
    "combined_dict = {**dict1, **dict2} # 딕셔너리 언팩킹\n",
    "print(combined_dict) # 출력: {'a': 1, 'b': 3, 'c': 4}"
   ]
  }
 ],
 "metadata": {
  "kernelspec": {
   "display_name": "base",
   "language": "python",
   "name": "python3"
  },
  "language_info": {
   "codemirror_mode": {
    "name": "ipython",
    "version": 3
   },
   "file_extension": ".py",
   "mimetype": "text/x-python",
   "name": "python",
   "nbconvert_exporter": "python",
   "pygments_lexer": "ipython3",
   "version": "3.12.7"
  }
 },
 "nbformat": 4,
 "nbformat_minor": 5
}
