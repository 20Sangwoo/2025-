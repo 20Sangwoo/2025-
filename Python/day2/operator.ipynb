{
 "cells": [
  {
   "cell_type": "code",
   "execution_count": 3,
   "id": "66c394c2",
   "metadata": {},
   "outputs": [
    {
     "name": "stdout",
     "output_type": "stream",
     "text": [
      "343\n"
     ]
    }
   ],
   "source": [
    "# 거듭 제곱 (지주 표현)\n",
    "x = 7\n",
    "y = x ** 3\n",
    "print(y)"
   ]
  },
  {
   "cell_type": "code",
   "execution_count": 6,
   "id": "ebbc023e",
   "metadata": {},
   "outputs": [
    {
     "name": "stdout",
     "output_type": "stream",
     "text": [
      "2.3333333333333335 1 2\n"
     ]
    }
   ],
   "source": [
    "x = 7 / 3\n",
    "y = 7 % 3   # 나머지\n",
    "z = 7 // 3  # 몫\n",
    "print(x, y, z)"
   ]
  },
  {
   "cell_type": "code",
   "execution_count": 7,
   "id": "3ddc4886",
   "metadata": {},
   "outputs": [
    {
     "name": "stdout",
     "output_type": "stream",
     "text": [
      "10\n"
     ]
    }
   ],
   "source": [
    "x = 10\n",
    "# x++ 증감 연산자 사용 불가\n",
    "print(x)"
   ]
  },
  {
   "cell_type": "code",
   "execution_count": 8,
   "id": "97976070",
   "metadata": {},
   "outputs": [
    {
     "name": "stdout",
     "output_type": "stream",
     "text": [
      "2 또는 3으로 나뉘어지는 수입니다..\n"
     ]
    }
   ],
   "source": [
    "# 2또는 3으로 나뉘어지는가?\n",
    "x = 10\n",
    "if x % 2 == 0 or x % 3 == 0:\n",
    "    print('2 또는 3으로 나뉘어지는 수입니다..')"
   ]
  },
  {
   "cell_type": "code",
   "execution_count": 14,
   "id": "269f9f22",
   "metadata": {},
   "outputs": [
    {
     "name": "stdout",
     "output_type": "stream",
     "text": [
      "2 또는 3으로 나뉘어지지 않습니다.\n",
      "2 또는 3으로 나뉘어지는 수입니다.\n",
      "2 또는 3으로 나뉘어지는 수입니다.\n",
      "2 또는 3으로 나뉘어지는 수입니다.\n",
      "2 또는 3으로 나뉘어지지 않습니다.\n",
      "2 또는 3으로 나뉘어지는 수입니다.\n",
      "2 또는 3으로 나뉘어지지 않습니다.\n",
      "2 또는 3으로 나뉘어지는 수입니다.\n",
      "2 또는 3으로 나뉘어지는 수입니다.\n",
      "2 또는 3으로 나뉘어지는 수입니다.\n",
      "종료\n"
     ]
    }
   ],
   "source": [
    "# 2 또는 3의 배수인지 체크\n",
    "stop = False\n",
    "while not stop:\n",
    "    x = int(input('정수를 입력하세요 : '))\n",
    "    if x == 0:\n",
    "        stop = True\n",
    "        print('종료')\n",
    "    elif x % 2 == 0 or x % 3 == 0:\n",
    "        print('2 또는 3으로 나뉘어지는 수입니다.')\n",
    "    elif x % 2 != 0 or x % 3 != 0:\n",
    "        print('2 또는 3으로 나뉘어지지 않습니다.')"
   ]
  },
  {
   "cell_type": "code",
   "execution_count": 21,
   "id": "fb24edd9",
   "metadata": {},
   "outputs": [
    {
     "name": "stdout",
     "output_type": "stream",
     "text": [
      "홀수\n",
      "짝수 저장 : [2]\n",
      "홀수\n",
      "짝수 저장 : [2, 4]\n",
      "짝수 저장 : [2, 4, 6]\n",
      "중복되는 수\n",
      "종료\n",
      "저장된 숫자 [2, 4, 6]\n"
     ]
    }
   ],
   "source": [
    "# 정수를 입력받으면서 짝수만 리스트에 저장하는 프로그램 구현\n",
    "# 중복 허용 불가, 멤버십 연산자 사용, 0을 입력받으면 종료\n",
    "stop = False\n",
    "numbers = []\n",
    "\n",
    "while not stop:\n",
    "    num = int(input('정수를 입력하세요 : '))\n",
    "    if num == 0:\n",
    "        print('종료')\n",
    "        stop = True\n",
    "    elif num in numbers:\n",
    "        print('중복되는 수')\n",
    "    elif num % 2 == 0:\n",
    "        numbers.append(num)\n",
    "        print(f'짝수 저장 : {numbers}')\n",
    "    elif num % 2 != 0:\n",
    "        print('홀수')\n",
    "        \n",
    "print(f'저장된 숫자 {numbers}')\n",
    "        "
   ]
  },
  {
   "cell_type": "code",
   "execution_count": 26,
   "id": "507e4930",
   "metadata": {},
   "outputs": [
    {
     "name": "stdout",
     "output_type": "stream",
     "text": [
      "홀수\n",
      "짝수 저장 : {2}\n",
      "홀수\n",
      "짝수 저장 : {2, 4}\n",
      "홀수\n",
      "짝수 저장 : {2, 4, 6}\n",
      "짝수 저장 : {2, 4, 6}\n",
      "종료\n",
      "저장된 숫자 {2, 4, 6}\n"
     ]
    }
   ],
   "source": [
    "# 정수를 입력받으면서 짝수만 리스트에 저장하는 프로그램 구현\n",
    "# 중복 허용 불가, 멤버십 연산자 사용, 0을 입력받으면 종료\n",
    "stop = False\n",
    "numbers = set()    # set을 사용하면 중복 허용 X를 쉽게 구현현\n",
    "\n",
    "while not stop:\n",
    "    num = int(input('정수를 입력하세요 : '))\n",
    "    if num == 0:\n",
    "        print('종료')\n",
    "        stop = True\n",
    "    elif num % 2 == 0:\n",
    "        numbers.add(num)\n",
    "        print(f'짝수 저장 : {numbers}')\n",
    "    elif num % 2 != 0:\n",
    "        print('홀수')\n",
    "        \n",
    "print(f'저장된 숫자 {numbers}')\n",
    "        "
   ]
  },
  {
   "cell_type": "code",
   "execution_count": null,
   "id": "7ffcc2a6",
   "metadata": {},
   "outputs": [
    {
     "name": "stdout",
     "output_type": "stream",
     "text": [
      "True\n",
      "False\n",
      "True\n",
      "====\n",
      "True\n",
      "True\n",
      "False\n"
     ]
    }
   ],
   "source": [
    "# 두 객체가 동일한지 체크하는 연산자 is, is not\n",
    "# 동일 : 두 객체가 동일한 메모리 주소 참조하는지\n",
    "list_1 = [1, 2, 3]\n",
    "list_2 = list_1\n",
    "list_3 = [1, 2, 3]\n",
    "\n",
    "print(list_1 is list_2)\n",
    "print(list_1 is list_3)\n",
    "print(list_1 is not list_3)\n",
    "\n",
    "print('====')\n",
    "\n",
    "# 두 객체가 동등한지 체크하는 연산자 ==\n",
    "# 동등 : 두 객체의 값이 같은지\n",
    "print(list_1 == list_2)\n",
    "print(list_1 == list_3)\n",
    "print(list_1 != list_3)"
   ]
  },
  {
   "cell_type": "code",
   "execution_count": null,
   "id": "bff95678",
   "metadata": {},
   "outputs": [],
   "source": [
    "#"
   ]
  }
 ],
 "metadata": {
  "kernelspec": {
   "display_name": "base",
   "language": "python",
   "name": "python3"
  },
  "language_info": {
   "codemirror_mode": {
    "name": "ipython",
    "version": 3
   },
   "file_extension": ".py",
   "mimetype": "text/x-python",
   "name": "python",
   "nbconvert_exporter": "python",
   "pygments_lexer": "ipython3",
   "version": "3.12.7"
  }
 },
 "nbformat": 4,
 "nbformat_minor": 5
}
