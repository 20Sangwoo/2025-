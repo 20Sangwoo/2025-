{
 "cells": [
  {
   "cell_type": "code",
   "execution_count": 2,
   "id": "95502ac6",
   "metadata": {},
   "outputs": [],
   "source": [
    "def divide_numbers(num1, num2):\n",
    "    while(True):\n",
    "        try:\n",
    "            num1 = int(input('정수1 입력 : '))\n",
    "            num2 = int(input('정수2 입력 : '))\n",
    "    \n",
    "            result = divide_numbers(num1, num2)\n",
    "        except ZeroDivisionError as e:\n",
    "            print('오류 0으로 나눌 수 없습니다.')\n",
    "            print(f'예외 정보 : {e}')\n",
    "            print(e.args)\n",
    "        except ValueError as e:\n",
    "            print('오류 : 숫자만 입력해야합니다.')\n",
    "            print(f'예외 정보 : {e}')\n",
    "            print(e.args)\n",
    "        else:\n",
    "            print('나눗셈 성공!!')\n",
    "            print(result)\n",
    "        finally:\n",
    "            print('실행 완료!')"
   ]
  },
  {
   "cell_type": "code",
   "execution_count": 7,
   "id": "7e2c99ea",
   "metadata": {},
   "outputs": [],
   "source": [
    "def deposit(money):\n",
    "    if (money < 0):\n",
    "        raise Exception('a', money, '음수 값을 예치할 수 없음')\n",
    "    pass"
   ]
  },
  {
   "cell_type": "code",
   "execution_count": 9,
   "id": "d87f2bb7",
   "metadata": {},
   "outputs": [
    {
     "name": "stdout",
     "output_type": "stream",
     "text": [
      "('a', -100, '음수 값을 예치할 수 없음')\n"
     ]
    }
   ],
   "source": [
    "try:\n",
    "    deposit(-100)\n",
    "except Exception as e:\n",
    "    print(e)"
   ]
  }
 ],
 "metadata": {
  "kernelspec": {
   "display_name": "base",
   "language": "python",
   "name": "python3"
  },
  "language_info": {
   "codemirror_mode": {
    "name": "ipython",
    "version": 3
   },
   "file_extension": ".py",
   "mimetype": "text/x-python",
   "name": "python",
   "nbconvert_exporter": "python",
   "pygments_lexer": "ipython3",
   "version": "3.12.7"
  }
 },
 "nbformat": 4,
 "nbformat_minor": 5
}
