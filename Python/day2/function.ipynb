{
 "cells": [
  {
   "cell_type": "code",
   "execution_count": 4,
   "id": "47c9f917",
   "metadata": {},
   "outputs": [],
   "source": [
    "def add(num1, num2=100):\n",
    "    return num1 + num2"
   ]
  },
  {
   "cell_type": "code",
   "execution_count": 2,
   "id": "dea5b774",
   "metadata": {},
   "outputs": [
    {
     "name": "stdout",
     "output_type": "stream",
     "text": [
      "30\n"
     ]
    }
   ],
   "source": [
    "print(add(10,20))"
   ]
  },
  {
   "cell_type": "code",
   "execution_count": 5,
   "id": "1495afa8",
   "metadata": {},
   "outputs": [
    {
     "name": "stdout",
     "output_type": "stream",
     "text": [
      "110\n"
     ]
    }
   ],
   "source": [
    "print(add(10))"
   ]
  },
  {
   "cell_type": "code",
   "execution_count": null,
   "id": "59884581",
   "metadata": {},
   "outputs": [
    {
     "name": "stdout",
     "output_type": "stream",
     "text": [
      "30\n"
     ]
    }
   ],
   "source": [
    "# 키워드 지정 방식식\n",
    "print(add(num2=20, num1=10))"
   ]
  },
  {
   "cell_type": "code",
   "execution_count": 7,
   "id": "e4b97dc6",
   "metadata": {},
   "outputs": [],
   "source": [
    "# 가변 위치 매개변수 (Variable Positional Parameters)\n",
    "def add2(*values):\n",
    "    sum = 0\n",
    "    for ele in values:\n",
    "        sum += ele\n",
    "    return sum"
   ]
  },
  {
   "cell_type": "code",
   "execution_count": 10,
   "id": "9ab2a20d",
   "metadata": {},
   "outputs": [
    {
     "name": "stdout",
     "output_type": "stream",
     "text": [
      "6\n",
      "100\n",
      "16.5\n"
     ]
    }
   ],
   "source": [
    "print(add2(1,2,3))\n",
    "print(add2(10,20,30,40))\n",
    "print(add2(1.1, 2.2, 3.3, 4.4, 5.5))"
   ]
  },
  {
   "cell_type": "code",
   "execution_count": 19,
   "id": "e89acf6f",
   "metadata": {},
   "outputs": [],
   "source": [
    "# 가변 키워드 매개변수 (Variable Keyword Parameters) : 함수 내에서 객체로 다뤄짐\n",
    "def makePerson(**attr):\n",
    "    # person = {'name' : '이름', 'age' : '나이', 'address' : '주소 '}\n",
    "    # person.update(attr)\n",
    "    # return person\n",
    "    return attr"
   ]
  },
  {
   "cell_type": "code",
   "execution_count": 20,
   "id": "4b107e17",
   "metadata": {},
   "outputs": [
    {
     "name": "stdout",
     "output_type": "stream",
     "text": [
      "{'name': '홍길동', 'age': 20, 'address': '부산'}\n"
     ]
    }
   ],
   "source": [
    "print(makePerson(name='홍길동', age=20, address='부산'))"
   ]
  },
  {
   "cell_type": "code",
   "execution_count": 22,
   "id": "ef4ef14f",
   "metadata": {},
   "outputs": [],
   "source": [
    "class StudentGrades:\n",
    "    # 생성자 메소드\n",
    "    def __init__(self):\n",
    "        self.grades = {} # 학생 성적을 저장할 딕셔너리\n",
    "    \n",
    "    # 일반 메소드\n",
    "    def add_student(self, name, **kwargs):\n",
    "        '''학생의 성적 추가'''\n",
    "        self.grades[name] = kwargs\n",
    "        \n",
    "    def get_student_grades(self, name):\n",
    "        '''특정 학생의 성적 조회'''\n",
    "        return self.grades.get(name, \"학생이 존재하지 않습니다.\")\n",
    "    \n",
    "    def print_all_grades(self) :\n",
    "        '''모든 학생의 성적 출력'''\n",
    "        for name, subjects in self.grades.items():\n",
    "            print(f'{name} : {subjects}')"
   ]
  },
  {
   "cell_type": "code",
   "execution_count": 23,
   "id": "0514725f",
   "metadata": {},
   "outputs": [],
   "source": [
    "grades_manager = StudentGrades()    #   객체 생성"
   ]
  },
  {
   "cell_type": "code",
   "execution_count": 24,
   "id": "711c27d6",
   "metadata": {},
   "outputs": [],
   "source": [
    "# 학생 추가\n",
    "grades_manager.add_student('홍길동', math=90, eng=80, kor=70)\n",
    "grades_manager.add_student('홍길순', math=85, eng=70)"
   ]
  },
  {
   "cell_type": "code",
   "execution_count": 25,
   "id": "d018b06e",
   "metadata": {},
   "outputs": [
    {
     "data": {
      "text/plain": [
       "{'math': 85, 'eng': 70}"
      ]
     },
     "execution_count": 25,
     "metadata": {},
     "output_type": "execute_result"
    }
   ],
   "source": [
    "# 특정 학생 성적 조회\n",
    "grades_manager.get_student_grades(\"홍길동\")\n",
    "grades_manager.get_student_grades(\"홍길순\")"
   ]
  },
  {
   "cell_type": "code",
   "execution_count": 27,
   "id": "301e7794",
   "metadata": {},
   "outputs": [
    {
     "name": "stdout",
     "output_type": "stream",
     "text": [
      "홍길동 : {'math': 90, 'eng': 80, 'kor': 70}\n",
      "홍길순 : {'math': 85, 'eng': 70}\n"
     ]
    }
   ],
   "source": [
    "# 모든 학생 출력\n",
    "grades_manager.print_all_grades()"
   ]
  },
  {
   "cell_type": "code",
   "execution_count": 28,
   "id": "55ac65e3",
   "metadata": {},
   "outputs": [
    {
     "name": "stdout",
     "output_type": "stream",
     "text": [
      "Help on method add_student in module __main__:\n",
      "\n",
      "add_student(name, **kwargs) method of __main__.StudentGrades instance\n",
      "    학생의 성적 추가\n",
      "\n"
     ]
    }
   ],
   "source": [
    "help(grades_manager.add_student)"
   ]
  },
  {
   "cell_type": "code",
   "execution_count": 30,
   "id": "3f60f617",
   "metadata": {},
   "outputs": [
    {
     "name": "stdout",
     "output_type": "stream",
     "text": [
      "\u001b[1;31mSignature:\u001b[0m \u001b[0mgrades_manager\u001b[0m\u001b[1;33m.\u001b[0m\u001b[0madd_student\u001b[0m\u001b[1;33m(\u001b[0m\u001b[0mname\u001b[0m\u001b[1;33m,\u001b[0m \u001b[1;33m**\u001b[0m\u001b[0mkwargs\u001b[0m\u001b[1;33m)\u001b[0m\u001b[1;33m\u001b[0m\u001b[1;33m\u001b[0m\u001b[0m\n",
      "\u001b[1;31mDocstring:\u001b[0m 학생의 성적 추가\n",
      "\u001b[1;31mFile:\u001b[0m      c:\\users\\user\\appdata\\local\\temp\\ipykernel_5332\\3469168530.py\n",
      "\u001b[1;31mType:\u001b[0m      method"
     ]
    }
   ],
   "source": [
    "grades_manager.add_student?"
   ]
  },
  {
   "cell_type": "code",
   "execution_count": 32,
   "id": "fc765d24",
   "metadata": {},
   "outputs": [
    {
     "data": {
      "text/plain": [
       "'학생의 성적 추가'"
      ]
     },
     "execution_count": 32,
     "metadata": {},
     "output_type": "execute_result"
    }
   ],
   "source": [
    "grades_manager.add_student.__doc__"
   ]
  },
  {
   "cell_type": "code",
   "execution_count": 33,
   "id": "6ef3cfc4",
   "metadata": {},
   "outputs": [
    {
     "name": "stdout",
     "output_type": "stream",
     "text": [
      "Help on function add_student in module __main__:\n",
      "\n",
      "add_student(self, name, **kwargs)\n",
      "    학생의 성적 추가\n",
      "\n",
      "Help on method add_student in module __main__:\n",
      "\n",
      "add_student(name, **kwargs) method of __main__.StudentGrades instance\n",
      "    학생의 성적 추가\n",
      "\n"
     ]
    }
   ],
   "source": [
    "help(StudentGrades.add_student)\n",
    "help(grades_manager.add_student)"
   ]
  },
  {
   "cell_type": "code",
   "execution_count": 34,
   "id": "9128f818",
   "metadata": {},
   "outputs": [
    {
     "name": "stdout",
     "output_type": "stream",
     "text": [
      "\u001b[1;31mSignature:\u001b[0m \u001b[0mgrades_manager\u001b[0m\u001b[1;33m.\u001b[0m\u001b[0madd_student\u001b[0m\u001b[1;33m(\u001b[0m\u001b[0mname\u001b[0m\u001b[1;33m,\u001b[0m \u001b[1;33m**\u001b[0m\u001b[0mkwargs\u001b[0m\u001b[1;33m)\u001b[0m\u001b[1;33m\u001b[0m\u001b[1;33m\u001b[0m\u001b[0m\n",
      "\u001b[1;31mDocstring:\u001b[0m 학생의 성적 추가\n",
      "\u001b[1;31mFile:\u001b[0m      c:\\users\\user\\appdata\\local\\temp\\ipykernel_5332\\3469168530.py\n",
      "\u001b[1;31mType:\u001b[0m      method"
     ]
    }
   ],
   "source": [
    "StudentGrades.add_student?\n",
    "grades_manager.add_student?"
   ]
  },
  {
   "cell_type": "code",
   "execution_count": 36,
   "id": "932ff162",
   "metadata": {},
   "outputs": [
    {
     "data": {
      "text/plain": [
       "'학생의 성적 추가'"
      ]
     },
     "execution_count": 36,
     "metadata": {},
     "output_type": "execute_result"
    }
   ],
   "source": [
    "StudentGrades.add_student.__doc__\n",
    "grades_manager.add_student.__doc__"
   ]
  },
  {
   "cell_type": "code",
   "execution_count": 37,
   "id": "150a090c",
   "metadata": {},
   "outputs": [
    {
     "name": "stdout",
     "output_type": "stream",
     "text": [
      "학생의 성적 추가\n"
     ]
    }
   ],
   "source": [
    "print(StudentGrades.add_student.__doc__)"
   ]
  },
  {
   "cell_type": "code",
   "execution_count": 39,
   "id": "ca5c5c81",
   "metadata": {},
   "outputs": [
    {
     "name": "stdout",
     "output_type": "stream",
     "text": [
      "Help on class set in module builtins:\n",
      "\n",
      "class set(object)\n",
      " |  set() -> new empty set object\n",
      " |  set(iterable) -> new set object\n",
      " |\n",
      " |  Build an unordered collection of unique elements.\n",
      " |\n",
      " |  Methods defined here:\n",
      " |\n",
      " |  __and__(self, value, /)\n",
      " |      Return self&value.\n",
      " |\n",
      " |  __contains__(...)\n",
      " |      x.__contains__(y) <==> y in x.\n",
      " |\n",
      " |  __eq__(self, value, /)\n",
      " |      Return self==value.\n",
      " |\n",
      " |  __ge__(self, value, /)\n",
      " |      Return self>=value.\n",
      " |\n",
      " |  __getattribute__(self, name, /)\n",
      " |      Return getattr(self, name).\n",
      " |\n",
      " |  __gt__(self, value, /)\n",
      " |      Return self>value.\n",
      " |\n",
      " |  __iand__(self, value, /)\n",
      " |      Return self&=value.\n",
      " |\n",
      " |  __init__(self, /, *args, **kwargs)\n",
      " |      Initialize self.  See help(type(self)) for accurate signature.\n",
      " |\n",
      " |  __ior__(self, value, /)\n",
      " |      Return self|=value.\n",
      " |\n",
      " |  __isub__(self, value, /)\n",
      " |      Return self-=value.\n",
      " |\n",
      " |  __iter__(self, /)\n",
      " |      Implement iter(self).\n",
      " |\n",
      " |  __ixor__(self, value, /)\n",
      " |      Return self^=value.\n",
      " |\n",
      " |  __le__(self, value, /)\n",
      " |      Return self<=value.\n",
      " |\n",
      " |  __len__(self, /)\n",
      " |      Return len(self).\n",
      " |\n",
      " |  __lt__(self, value, /)\n",
      " |      Return self<value.\n",
      " |\n",
      " |  __ne__(self, value, /)\n",
      " |      Return self!=value.\n",
      " |\n",
      " |  __or__(self, value, /)\n",
      " |      Return self|value.\n",
      " |\n",
      " |  __rand__(self, value, /)\n",
      " |      Return value&self.\n",
      " |\n",
      " |  __reduce__(...)\n",
      " |      Return state information for pickling.\n",
      " |\n",
      " |  __repr__(self, /)\n",
      " |      Return repr(self).\n",
      " |\n",
      " |  __ror__(self, value, /)\n",
      " |      Return value|self.\n",
      " |\n",
      " |  __rsub__(self, value, /)\n",
      " |      Return value-self.\n",
      " |\n",
      " |  __rxor__(self, value, /)\n",
      " |      Return value^self.\n",
      " |\n",
      " |  __sizeof__(...)\n",
      " |      S.__sizeof__() -> size of S in memory, in bytes\n",
      " |\n",
      " |  __sub__(self, value, /)\n",
      " |      Return self-value.\n",
      " |\n",
      " |  __xor__(self, value, /)\n",
      " |      Return self^value.\n",
      " |\n",
      " |  add(...)\n",
      " |      Add an element to a set.\n",
      " |\n",
      " |      This has no effect if the element is already present.\n",
      " |\n",
      " |  clear(...)\n",
      " |      Remove all elements from this set.\n",
      " |\n",
      " |  copy(...)\n",
      " |      Return a shallow copy of a set.\n",
      " |\n",
      " |  difference(...)\n",
      " |      Return the difference of two or more sets as a new set.\n",
      " |\n",
      " |      (i.e. all elements that are in this set but not the others.)\n",
      " |\n",
      " |  difference_update(...)\n",
      " |      Remove all elements of another set from this set.\n",
      " |\n",
      " |  discard(...)\n",
      " |      Remove an element from a set if it is a member.\n",
      " |\n",
      " |      Unlike set.remove(), the discard() method does not raise\n",
      " |      an exception when an element is missing from the set.\n",
      " |\n",
      " |  intersection(...)\n",
      " |      Return the intersection of two sets as a new set.\n",
      " |\n",
      " |      (i.e. all elements that are in both sets.)\n",
      " |\n",
      " |  intersection_update(...)\n",
      " |      Update a set with the intersection of itself and another.\n",
      " |\n",
      " |  isdisjoint(...)\n",
      " |      Return True if two sets have a null intersection.\n",
      " |\n",
      " |  issubset(self, other, /)\n",
      " |      Test whether every element in the set is in other.\n",
      " |\n",
      " |  issuperset(self, other, /)\n",
      " |      Test whether every element in other is in the set.\n",
      " |\n",
      " |  pop(...)\n",
      " |      Remove and return an arbitrary set element.\n",
      " |      Raises KeyError if the set is empty.\n",
      " |\n",
      " |  remove(...)\n",
      " |      Remove an element from a set; it must be a member.\n",
      " |\n",
      " |      If the element is not a member, raise a KeyError.\n",
      " |\n",
      " |  symmetric_difference(...)\n",
      " |      Return the symmetric difference of two sets as a new set.\n",
      " |\n",
      " |      (i.e. all elements that are in exactly one of the sets.)\n",
      " |\n",
      " |  symmetric_difference_update(...)\n",
      " |      Update a set with the symmetric difference of itself and another.\n",
      " |\n",
      " |  union(...)\n",
      " |      Return the union of sets as a new set.\n",
      " |\n",
      " |      (i.e. all elements that are in either set.)\n",
      " |\n",
      " |  update(...)\n",
      " |      Update a set with the union of itself and others.\n",
      " |\n",
      " |  ----------------------------------------------------------------------\n",
      " |  Class methods defined here:\n",
      " |\n",
      " |  __class_getitem__(...)\n",
      " |      See PEP 585\n",
      " |\n",
      " |  ----------------------------------------------------------------------\n",
      " |  Static methods defined here:\n",
      " |\n",
      " |  __new__(*args, **kwargs)\n",
      " |      Create and return a new object.  See help(type) for accurate signature.\n",
      " |\n",
      " |  ----------------------------------------------------------------------\n",
      " |  Data and other attributes defined here:\n",
      " |\n",
      " |  __hash__ = None\n",
      "\n"
     ]
    }
   ],
   "source": [
    "help(set)"
   ]
  },
  {
   "cell_type": "code",
   "execution_count": 40,
   "id": "c56bdab7",
   "metadata": {},
   "outputs": [],
   "source": [
    "def add3(num1, num2):\n",
    "    return num1 + num2"
   ]
  },
  {
   "cell_type": "code",
   "execution_count": 42,
   "id": "2d7faa07",
   "metadata": {},
   "outputs": [
    {
     "name": "stdout",
     "output_type": "stream",
     "text": [
      "30\n",
      "200\n"
     ]
    }
   ],
   "source": [
    "print(add3(10,20))\n",
    "print(add3(num2=100, num1=100))"
   ]
  },
  {
   "cell_type": "code",
   "execution_count": 43,
   "id": "3a63ea2c",
   "metadata": {},
   "outputs": [],
   "source": [
    "# 키워드 전용 매개변수 (Keyword-only Arguments)\n",
    "def add4(*,num1, num2):\n",
    "    return num1 + num2"
   ]
  },
  {
   "cell_type": "code",
   "execution_count": 44,
   "id": "05ea6b6d",
   "metadata": {},
   "outputs": [
    {
     "name": "stdout",
     "output_type": "stream",
     "text": [
      "30\n"
     ]
    }
   ],
   "source": [
    "print(add4(num1=10, num2=20))"
   ]
  },
  {
   "cell_type": "code",
   "execution_count": 45,
   "id": "567bd9b2",
   "metadata": {},
   "outputs": [],
   "source": [
    "# 위치 전용 매개변수 (Positional-only Parameters)\n",
    "def add5(num1, num2, /):\n",
    "    return num1 + num2"
   ]
  },
  {
   "cell_type": "code",
   "execution_count": 47,
   "id": "2ceccd5b",
   "metadata": {},
   "outputs": [
    {
     "name": "stdout",
     "output_type": "stream",
     "text": [
      "30\n"
     ]
    }
   ],
   "source": [
    "print(add5(10,20))"
   ]
  },
  {
   "cell_type": "code",
   "execution_count": 48,
   "id": "a780c181",
   "metadata": {},
   "outputs": [],
   "source": [
    "def f (a, b, /, c, d, *, e, f):\n",
    "    pass"
   ]
  },
  {
   "cell_type": "code",
   "execution_count": 49,
   "id": "c6a53afd",
   "metadata": {},
   "outputs": [],
   "source": [
    "f(1,2,3,4,e=10,f=20)"
   ]
  },
  {
   "cell_type": "code",
   "execution_count": 50,
   "id": "bda64049",
   "metadata": {},
   "outputs": [
    {
     "data": {
      "text/plain": [
       "[1, 3, 4, 5]"
      ]
     },
     "execution_count": 50,
     "metadata": {},
     "output_type": "execute_result"
    }
   ],
   "source": [
    "list = [3, 1, 4, 5]\n",
    "sorted(list)"
   ]
  },
  {
   "cell_type": "code",
   "execution_count": 51,
   "id": "19cd39cf",
   "metadata": {},
   "outputs": [],
   "source": [
    "data = [('홍길동', 20),('홍길서', 30), ('홍길남', 40)]"
   ]
  },
  {
   "cell_type": "code",
   "execution_count": 52,
   "id": "ff44913a",
   "metadata": {},
   "outputs": [
    {
     "data": {
      "text/plain": [
       "[('홍길남', 40), ('홍길서', 30), ('홍길동', 20)]"
      ]
     },
     "execution_count": 52,
     "metadata": {},
     "output_type": "execute_result"
    }
   ],
   "source": [
    "# Key 매개 변수를 사용해 두 번째 요소 기준으로 정렬\n",
    "sorted(data, key=lambda ele:ele[1], reverse=True)"
   ]
  },
  {
   "cell_type": "code",
   "execution_count": 53,
   "id": "c6e9bb4d",
   "metadata": {},
   "outputs": [
    {
     "data": {
      "text/plain": [
       "('홍길동', 20)"
      ]
     },
     "execution_count": 53,
     "metadata": {},
     "output_type": "execute_result"
    }
   ],
   "source": [
    "('홍길동', 20)"
   ]
  }
 ],
 "metadata": {
  "kernelspec": {
   "display_name": "base",
   "language": "python",
   "name": "python3"
  },
  "language_info": {
   "codemirror_mode": {
    "name": "ipython",
    "version": 3
   },
   "file_extension": ".py",
   "mimetype": "text/x-python",
   "name": "python",
   "nbconvert_exporter": "python",
   "pygments_lexer": "ipython3",
   "version": "3.12.7"
  }
 },
 "nbformat": 4,
 "nbformat_minor": 5
}
