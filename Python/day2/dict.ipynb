{
 "cells": [
  {
   "cell_type": "code",
   "execution_count": 2,
   "id": "e8f6364f",
   "metadata": {},
   "outputs": [],
   "source": [
    "person = {\n",
    "    'name' : '홍길동',\n",
    "    'age' : 20,\n",
    "    'address' : '부산'\n",
    "}"
   ]
  },
  {
   "cell_type": "code",
   "execution_count": 3,
   "id": "77956467",
   "metadata": {},
   "outputs": [
    {
     "data": {
      "text/plain": [
       "dict_keys(['name', 'age', 'address'])"
      ]
     },
     "execution_count": 3,
     "metadata": {},
     "output_type": "execute_result"
    }
   ],
   "source": [
    "person.keys()"
   ]
  },
  {
   "cell_type": "code",
   "execution_count": 4,
   "id": "e4125d03",
   "metadata": {},
   "outputs": [
    {
     "data": {
      "text/plain": [
       "dict_values(['홍길동', 20, '부산'])"
      ]
     },
     "execution_count": 4,
     "metadata": {},
     "output_type": "execute_result"
    }
   ],
   "source": [
    "person.values()"
   ]
  },
  {
   "cell_type": "code",
   "execution_count": 5,
   "id": "678b4158",
   "metadata": {},
   "outputs": [
    {
     "data": {
      "text/plain": [
       "dict_items([('name', '홍길동'), ('age', 20), ('address', '부산')])"
      ]
     },
     "execution_count": 5,
     "metadata": {},
     "output_type": "execute_result"
    }
   ],
   "source": [
    "person.items()"
   ]
  },
  {
   "cell_type": "code",
   "execution_count": 6,
   "id": "1f5b0885",
   "metadata": {},
   "outputs": [
    {
     "name": "stdout",
     "output_type": "stream",
     "text": [
      "name\n",
      "age\n",
      "address\n"
     ]
    }
   ],
   "source": [
    "for ele in person.keys():\n",
    "    print(ele)"
   ]
  },
  {
   "cell_type": "code",
   "execution_count": 7,
   "id": "92bda5e7",
   "metadata": {},
   "outputs": [
    {
     "name": "stdout",
     "output_type": "stream",
     "text": [
      "홍길동\n",
      "20\n",
      "부산\n"
     ]
    }
   ],
   "source": [
    "for ele in person.values():\n",
    "    print(ele)"
   ]
  },
  {
   "cell_type": "code",
   "execution_count": 8,
   "id": "7d293571",
   "metadata": {},
   "outputs": [
    {
     "name": "stdout",
     "output_type": "stream",
     "text": [
      "('name', '홍길동')\n",
      "('age', 20)\n",
      "('address', '부산')\n"
     ]
    }
   ],
   "source": [
    "for ele in person.items():\n",
    "    print(ele)"
   ]
  },
  {
   "cell_type": "code",
   "execution_count": 9,
   "id": "6d3e30e3",
   "metadata": {},
   "outputs": [
    {
     "name": "stdout",
     "output_type": "stream",
     "text": [
      "10 20\n",
      "10 20\n"
     ]
    }
   ],
   "source": [
    "x, y = (10, 20)\n",
    "print(x, y)\n",
    "x, y = [10, 20]\n",
    "print(x, y)"
   ]
  },
  {
   "cell_type": "code",
   "execution_count": 10,
   "id": "2c3ace0f",
   "metadata": {},
   "outputs": [
    {
     "name": "stdout",
     "output_type": "stream",
     "text": [
      "name 홍길동\n",
      "age 20\n",
      "address 부산\n"
     ]
    }
   ],
   "source": [
    "for key, value in person.items():\n",
    "    print(key, value)"
   ]
  },
  {
   "cell_type": "code",
   "execution_count": 11,
   "id": "a706c7a2",
   "metadata": {},
   "outputs": [
    {
     "data": {
      "text/plain": [
       "'홍길동'"
      ]
     },
     "execution_count": 11,
     "metadata": {},
     "output_type": "execute_result"
    }
   ],
   "source": [
    "person['name']"
   ]
  },
  {
   "cell_type": "code",
   "execution_count": 12,
   "id": "ba90e5fa",
   "metadata": {},
   "outputs": [
    {
     "data": {
      "text/plain": [
       "20"
      ]
     },
     "execution_count": 12,
     "metadata": {},
     "output_type": "execute_result"
    }
   ],
   "source": [
    "person['age']"
   ]
  },
  {
   "cell_type": "code",
   "execution_count": 13,
   "id": "5743a31f",
   "metadata": {},
   "outputs": [
    {
     "data": {
      "text/plain": [
       "'부산'"
      ]
     },
     "execution_count": 13,
     "metadata": {},
     "output_type": "execute_result"
    }
   ],
   "source": [
    "person['address']"
   ]
  },
  {
   "cell_type": "code",
   "execution_count": 14,
   "id": "7eb75827",
   "metadata": {},
   "outputs": [],
   "source": [
    "person['name'] = '홍길순'"
   ]
  },
  {
   "cell_type": "code",
   "execution_count": 16,
   "id": "bb9dfe0e",
   "metadata": {},
   "outputs": [
    {
     "data": {
      "text/plain": [
       "{'name': '홍길순', 'age': 20, 'address': '부산'}"
      ]
     },
     "execution_count": 16,
     "metadata": {},
     "output_type": "execute_result"
    }
   ],
   "source": [
    "person"
   ]
  },
  {
   "cell_type": "code",
   "execution_count": 17,
   "id": "eb7786b7",
   "metadata": {},
   "outputs": [],
   "source": [
    "person['gender'] = '여자'"
   ]
  },
  {
   "cell_type": "code",
   "execution_count": 18,
   "id": "614f4749",
   "metadata": {},
   "outputs": [
    {
     "data": {
      "text/plain": [
       "{'name': '홍길순', 'age': 20, 'address': '부산', 'gender': '여자'}"
      ]
     },
     "execution_count": 18,
     "metadata": {},
     "output_type": "execute_result"
    }
   ],
   "source": [
    "person"
   ]
  },
  {
   "cell_type": "code",
   "execution_count": 21,
   "id": "1222ca80",
   "metadata": {},
   "outputs": [],
   "source": [
    "tmp = {'name' : '이름', 'age' : '나이', 'address' : '주소', 'gender' : '성별'}"
   ]
  },
  {
   "cell_type": "code",
   "execution_count": 22,
   "id": "3f0dfbeb",
   "metadata": {},
   "outputs": [
    {
     "data": {
      "text/plain": [
       "{'name': '이름', 'age': '나이', 'address': '주소', 'gender': '성별'}"
      ]
     },
     "execution_count": 22,
     "metadata": {},
     "output_type": "execute_result"
    }
   ],
   "source": [
    "person.update(tmp)\n",
    "person"
   ]
  },
  {
   "cell_type": "code",
   "execution_count": 23,
   "id": "f51d1c8a",
   "metadata": {},
   "outputs": [
    {
     "data": {
      "text/plain": [
       "{'name': '이름',\n",
       " 'age': '나이',\n",
       " 'address': '주소',\n",
       " 'gender': '성별',\n",
       " 'hobby': ['reading', 'swimming', 'golf']}"
      ]
     },
     "execution_count": 23,
     "metadata": {},
     "output_type": "execute_result"
    }
   ],
   "source": [
    "person['hobby'] = ['reading', 'swimming', 'golf']\n",
    "person"
   ]
  },
  {
   "cell_type": "code",
   "execution_count": null,
   "id": "2b03a655",
   "metadata": {},
   "outputs": [],
   "source": [
    "    "
   ]
  }
 ],
 "metadata": {
  "kernelspec": {
   "display_name": "base",
   "language": "python",
   "name": "python3"
  },
  "language_info": {
   "codemirror_mode": {
    "name": "ipython",
    "version": 3
   },
   "file_extension": ".py",
   "mimetype": "text/x-python",
   "name": "python",
   "nbconvert_exporter": "python",
   "pygments_lexer": "ipython3",
   "version": "3.12.7"
  }
 },
 "nbformat": 4,
 "nbformat_minor": 5
}
