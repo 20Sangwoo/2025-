{
 "cells": [
  {
   "cell_type": "code",
   "execution_count": 3,
   "id": "f4f31920",
   "metadata": {},
   "outputs": [],
   "source": [
    "# 집합 객체 생성\n",
    "set_a = {1, 2, 3, 4}\n",
    "set_b = {3, 4, 5, 6}"
   ]
  },
  {
   "cell_type": "code",
   "execution_count": 7,
   "id": "7d73eda8",
   "metadata": {},
   "outputs": [
    {
     "name": "stdout",
     "output_type": "stream",
     "text": [
      "{1, 2, 3, 4, 5, 6} {1, 2, 3, 4, 5, 6}\n"
     ]
    }
   ],
   "source": [
    "# 합집합\n",
    "# 메소드 사용\n",
    "union_set = set_a.union(set_b)\n",
    "\n",
    "# 연산자 사용\n",
    "union_set_operator = set_a | set_b\n",
    "print(union_set, union_set_operator)"
   ]
  },
  {
   "cell_type": "code",
   "execution_count": 9,
   "id": "f031b25a",
   "metadata": {},
   "outputs": [
    {
     "name": "stdout",
     "output_type": "stream",
     "text": [
      "{3, 4} {3, 4}\n"
     ]
    }
   ],
   "source": [
    "# 교집합\n",
    "# 메소드 사용\n",
    "intersection_set = set_a.intersection(set_b)\n",
    "\n",
    "# 연산자 사용\n",
    "intersection_set_operator = set_a & set_b\n",
    "print(intersection_set, intersection_set_operator)"
   ]
  },
  {
   "cell_type": "code",
   "execution_count": 12,
   "id": "f2444afd",
   "metadata": {},
   "outputs": [
    {
     "name": "stdout",
     "output_type": "stream",
     "text": [
      "{1, 2} {1, 2}\n"
     ]
    }
   ],
   "source": [
    "# 차집합\n",
    "# 메소드 사용\n",
    "difference_set = set_a.difference(set_b)\n",
    "\n",
    "# 연산자 사용\n",
    "difference_set_operator = set_a - set_b\n",
    "print(difference_set, difference_set_operator)"
   ]
  },
  {
   "cell_type": "code",
   "execution_count": 14,
   "id": "61037dec",
   "metadata": {},
   "outputs": [
    {
     "name": "stdout",
     "output_type": "stream",
     "text": [
      "{1, 2, 5, 6} {1, 2, 5, 6}\n"
     ]
    }
   ],
   "source": [
    "# 대칭 차집합\n",
    "# 메소드 사용\n",
    "symmetric_difference_set = set_a.symmetric_difference(set_b)\n",
    "\n",
    "# 연산자 사용\n",
    "symmetric_difference_set_operator = set_a ^ set_b\n",
    "print(symmetric_difference_set, symmetric_difference_set_operator)"
   ]
  },
  {
   "cell_type": "code",
   "execution_count": null,
   "id": "8673ac3b",
   "metadata": {},
   "outputs": [],
   "source": []
  }
 ],
 "metadata": {
  "kernelspec": {
   "display_name": "base",
   "language": "python",
   "name": "python3"
  },
  "language_info": {
   "codemirror_mode": {
    "name": "ipython",
    "version": 3
   },
   "file_extension": ".py",
   "mimetype": "text/x-python",
   "name": "python",
   "nbconvert_exporter": "python",
   "pygments_lexer": "ipython3",
   "version": "3.12.7"
  }
 },
 "nbformat": 4,
 "nbformat_minor": 5
}
