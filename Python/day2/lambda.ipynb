{
 "cells": [
  {
   "cell_type": "code",
   "execution_count": 1,
   "id": "c6ec3c74",
   "metadata": {},
   "outputs": [],
   "source": [
    "def add(num1, num2):\n",
    "    return num1 + num2"
   ]
  },
  {
   "cell_type": "code",
   "execution_count": 2,
   "id": "2d095788",
   "metadata": {},
   "outputs": [
    {
     "name": "stdout",
     "output_type": "stream",
     "text": [
      "30\n"
     ]
    }
   ],
   "source": [
    "print(add(10,20))"
   ]
  },
  {
   "cell_type": "code",
   "execution_count": 4,
   "id": "8729d117",
   "metadata": {},
   "outputs": [],
   "source": [
    "add2 = lambda num1, num2 : num1 + num2"
   ]
  },
  {
   "cell_type": "code",
   "execution_count": 6,
   "id": "3c9e011a",
   "metadata": {},
   "outputs": [
    {
     "data": {
      "text/plain": [
       "1360056496384"
      ]
     },
     "execution_count": 6,
     "metadata": {},
     "output_type": "execute_result"
    }
   ],
   "source": [
    "id(add2)\n"
   ]
  },
  {
   "cell_type": "code",
   "execution_count": 7,
   "id": "a1f952f6",
   "metadata": {},
   "outputs": [
    {
     "data": {
      "text/plain": [
       "30"
      ]
     },
     "execution_count": 7,
     "metadata": {},
     "output_type": "execute_result"
    }
   ],
   "source": [
    "add2(10, 20)"
   ]
  },
  {
   "cell_type": "code",
   "execution_count": 8,
   "id": "0889ef41",
   "metadata": {},
   "outputs": [],
   "source": [
    "# 2배수 함수 정의\n",
    "def multiplierX2(n):\n",
    "    return n * 2"
   ]
  },
  {
   "cell_type": "code",
   "execution_count": 9,
   "id": "7ba809cb",
   "metadata": {},
   "outputs": [
    {
     "name": "stdout",
     "output_type": "stream",
     "text": [
      "20\n",
      "40\n"
     ]
    }
   ],
   "source": [
    "print(multiplierX2(10))\n",
    "print(multiplierX2(20))"
   ]
  },
  {
   "cell_type": "code",
   "execution_count": 10,
   "id": "3c829ab1",
   "metadata": {},
   "outputs": [],
   "source": [
    "# 3배수 함수 정의\n",
    "def multiplierX3(n):\n",
    "    return n * 3"
   ]
  },
  {
   "cell_type": "code",
   "execution_count": 11,
   "id": "31d890a1",
   "metadata": {},
   "outputs": [
    {
     "name": "stdout",
     "output_type": "stream",
     "text": [
      "30\n",
      "60\n"
     ]
    }
   ],
   "source": [
    "print(multiplierX3(10))\n",
    "print(multiplierX3(20))"
   ]
  },
  {
   "cell_type": "code",
   "execution_count": null,
   "id": "08d985ef",
   "metadata": {},
   "outputs": [],
   "source": [
    "# n배수 함수 정의\n",
    "def multiplierXn(n):\n",
    "    def multiply(x):\n",
    "        return n * x\n",
    "    return multiply\n",
    "\n",
    "f = lambda n : lambda x : n * x"
   ]
  },
  {
   "cell_type": "code",
   "execution_count": 20,
   "id": "4594b052",
   "metadata": {},
   "outputs": [
    {
     "name": "stdout",
     "output_type": "stream",
     "text": [
      "20\n"
     ]
    }
   ],
   "source": [
    "double = multiplierXn(2)\n",
    "print(double(10))"
   ]
  },
  {
   "cell_type": "code",
   "execution_count": 21,
   "id": "5921870d",
   "metadata": {},
   "outputs": [
    {
     "name": "stdout",
     "output_type": "stream",
     "text": [
      "30\n"
     ]
    }
   ],
   "source": [
    "triple = multiplierXn(3)\n",
    "print(triple(10))"
   ]
  },
  {
   "cell_type": "code",
   "execution_count": 25,
   "id": "8ae50edc",
   "metadata": {},
   "outputs": [
    {
     "name": "stdout",
     "output_type": "stream",
     "text": [
      "20\n",
      "30\n"
     ]
    }
   ],
   "source": [
    "print(multiplierXn(2)(10))\n",
    "print(multiplierXn(3)(10))\n",
    "\n"
   ]
  }
 ],
 "metadata": {
  "kernelspec": {
   "display_name": "base",
   "language": "python",
   "name": "python3"
  },
  "language_info": {
   "codemirror_mode": {
    "name": "ipython",
    "version": 3
   },
   "file_extension": ".py",
   "mimetype": "text/x-python",
   "name": "python",
   "nbconvert_exporter": "python",
   "pygments_lexer": "ipython3",
   "version": "3.12.7"
  }
 },
 "nbformat": 4,
 "nbformat_minor": 5
}
